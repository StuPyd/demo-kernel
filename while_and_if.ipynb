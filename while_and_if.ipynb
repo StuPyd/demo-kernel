{
 "cells": [
  {
   "cell_type": "markdown",
   "metadata": {},
   "source": [
    "#### Simple while-loop test"
   ]
  },
  {
   "cell_type": "code",
   "execution_count": 12,
   "metadata": {},
   "outputs": [
    {
     "name": "stdout",
     "output_type": "stream",
     "text": [
      "1.0\t2.0\t3.0\t4.0\t5.0\t"
     ]
    }
   ],
   "source": [
    "num item\n",
    "0 -> item\n",
    "\n",
    "while item<5:\n",
    "    item+1 -> item\n",
    "    print(item)\n",
    "    print(\"\\t\")"
   ]
  },
  {
   "cell_type": "markdown",
   "metadata": {},
   "source": [
    "#### Simple if-else test"
   ]
  },
  {
   "cell_type": "code",
   "execution_count": 27,
   "metadata": {},
   "outputs": [
    {
     "name": "stdout",
     "output_type": "stream",
     "text": [
      "item is positive!\n",
      "item is 0 or negative!\n"
     ]
    }
   ],
   "source": [
    "num item\n",
    "3 -> item\n",
    "if item>0:\n",
    "    print(\"item is positive!\\n\")\n",
    "else:\n",
    "    print(\"item is 0 or negative!\\n\")"
   ]
  },
  {
   "cell_type": "markdown",
   "metadata": {},
   "source": [
    "#### Fibonacci Sample"
   ]
  },
  {
   "cell_type": "code",
   "execution_count": 34,
   "metadata": {},
   "outputs": [
    {
     "name": "stdout",
     "output_type": "stream",
     "text": [
      "Fibonacci: \n",
      "1.0\t\t2.0\t\t3.0\t\t5.0\t\t8.0\t\t13.0\t\t21.0\t\t"
     ]
    }
   ],
   "source": [
    "// fibonacci test\n",
    "\n",
    "num a, b, c, d\n",
    "1 -> b\n",
    "\n",
    "print(\"Fibonacci: \\n\")\n",
    "\n",
    "while d<7:\n",
    "    a+b -> c\n",
    "    print(c)\n",
    "    print(\"\\t\\t\")\n",
    "    b -> a\n",
    "    c -> b\n",
    "    d+1 -> d"
   ]
  },
  {
   "cell_type": "markdown",
   "metadata": {},
   "source": [
    "#### Multiple while-loop test"
   ]
  },
  {
   "cell_type": "code",
   "execution_count": 31,
   "metadata": {},
   "outputs": [
    {
     "name": "stdout",
     "output_type": "stream",
     "text": [
      "* \n",
      "* * \n",
      "* * * \n",
      "* * * * \n",
      "* * * * * \n",
      "* * * * * * \n"
     ]
    }
   ],
   "source": [
    "string star\n",
    "\"*\" -> star\n",
    "\n",
    "num item1, item2\n",
    "0 -> item1\n",
    "\n",
    "while item1<6:\n",
    "    0 -> item2\n",
    "    item1+1 -> item1\n",
    "    while item2 < item1:\n",
    "        item2+1 -> item2\n",
    "        print(star + \" \")\n",
    "    print(\"\\n\")"
   ]
  },
  {
   "cell_type": "markdown",
   "metadata": {},
   "source": [
    "#### Question: how to output like?\n",
    "\n",
    "~~~\n",
    "          * \n",
    "        * * \n",
    "      * * * \n",
    "    * * * * \n",
    "  * * * * * \n",
    "* * * * * * \n",
    "~~~"
   ]
  },
  {
   "cell_type": "code",
   "execution_count": 33,
   "metadata": {},
   "outputs": [],
   "source": [
    "// enter your answer here\n"
   ]
  }
 ],
 "metadata": {
  "kernelspec": {
   "display_name": "Demo",
   "language": "",
   "name": "demo"
  },
  "language_info": {
   "file_extension": ".py",
   "mimetype": "text/python",
   "name": "python"
  }
 },
 "nbformat": 4,
 "nbformat_minor": 2
}
