{
 "cells": [
  {
   "cell_type": "markdown",
   "metadata": {},
   "source": [
    "### Hi, I'm Muchen. Today I'm your guider in this quick tour of *StuPyd*"
   ]
  },
  {
   "cell_type": "markdown",
   "metadata": {},
   "source": [
    "****\n",
    "\n",
    "At first, you may wonder what is a **programming language**?\n",
    "\n",
    "To be simple, a programming language is the tool you use to communicate with computer, by which you can tell the computer what to do.\n",
    "\n",
    "In fact, when we are using software, it does the same thing: tell the computer what to do. But the difference is, by clicking some certain buttons, the missions we order the computer to do are limited. We want the computer to do more things, which is why **programming language** is invented.\n",
    "\n",
    "Now, you can try to run the following code(select the cell and press `Shift+Enter`), it will output a fibonacci sequence on the screen, try to change its length!"
   ]
  },
  {
   "cell_type": "code",
   "execution_count": 3,
   "metadata": {},
   "outputs": [
    {
     "name": "stdout",
     "output_type": "stream",
     "text": [
      "fibonacci test\n",
      "\n",
      "Fibonacci: \n",
      "1.0\t\t2.0\t\t3.0\t\t5.0\t\t8.0\t\t"
     ]
    }
   ],
   "source": [
    "print(\"fibonacci test\\n\\n\")\n",
    "\n",
    "num a, b, c, d\n",
    "1 -> b\n",
    "print(\"Fibonacci: \\n\")\n",
    "while d<5:\n",
    "    a+b -> c\n",
    "    print(c)\n",
    "    print(\"\\t\\t\")\n",
    "    b -> a\n",
    "    c -> b\n",
    "    d+1 -> d"
   ]
  },
  {
   "cell_type": "markdown",
   "metadata": {},
   "source": [
    "****\n",
    "\n",
    "### Now, we will go through some simple but important concepts of a programming language"
   ]
  },
  {
   "cell_type": "markdown",
   "metadata": {},
   "source": [
    "### Variable: Declaration\n",
    "\n",
    "**Variable** is one of the most important concepts in a programming language. You can understand a variable as a unit, in which stored a certain type of data. They are the basic units to be operated by the computer. In StuPyd, there are only two kinds of variable: `num` and `string`. A `num` variable stores a real number, like `3.0`. A `string` variable stores a sequence of characters, for example `\"stupyd\"`.\n",
    "\n",
    "In StuPyd, a variable need to be **declared**(remember this word) first, then be operated. To declare a variable, you jsut need to input the **type** of the variable followed by the **variable name**, such as `num my_first_var`, in which case you tell the computer you want a `num` type variable named `my_first_var`. You can name your variables whatever you want, but there are some rules:\n",
    "\n",
    "1. no two variables can share the same name\n",
    "2. a valid variable name should start with a character or `'_'`, a name start by integers is invalid, for example `1_var`\n",
    "\n",
    "### Variable: Operation\n",
    "\n",
    "Now we can have our own variables, but how do we use them? There are basically one "
   ]
  },
  {
   "cell_type": "code",
   "execution_count": 2,
   "metadata": {},
   "outputs": [
    {
     "name": "stdout",
     "output_type": "stream",
     "text": [
      "1.0"
     ]
    }
   ],
   "source": [
    "num a\n",
    "1.0 -> a\n",
    "print(a)"
   ]
  },
  {
   "cell_type": "code",
   "execution_count": null,
   "metadata": {},
   "outputs": [],
   "source": []
  },
  {
   "cell_type": "code",
   "execution_count": null,
   "metadata": {},
   "outputs": [],
   "source": []
  },
  {
   "cell_type": "code",
   "execution_count": null,
   "metadata": {},
   "outputs": [],
   "source": []
  },
  {
   "cell_type": "code",
   "execution_count": null,
   "metadata": {},
   "outputs": [],
   "source": []
  },
  {
   "cell_type": "code",
   "execution_count": 3,
   "metadata": {},
   "outputs": [
    {
     "name": "stdout",
     "output_type": "stream",
     "text": [
      "while-loop test\n",
      "\n",
      "1.0:\n",
      "hello, stupyd\n",
      "2.0:\n",
      "hello, stupyd\n",
      "hello, stupyd\n",
      "3.0:\n",
      "hello, stupyd\n",
      "hello, stupyd\n",
      "hello, stupyd\n",
      "4.0:\n",
      "hello, stupyd\n",
      "hello, stupyd\n",
      "hello, stupyd\n",
      "hello, stupyd\n",
      "5.0:\n",
      "hello, stupyd\n",
      "hello, stupyd\n",
      "hello, stupyd\n",
      "hello, stupyd\n",
      "hello, stupyd\n",
      "\n",
      "END\n"
     ]
    }
   ],
   "source": [
    "print(\"while-loop test\\n\\n\")\n",
    "\n",
    "num a, b\n",
    "1 -> a\n",
    "while a<6:\n",
    "    0 -> b\n",
    "    print(a)\n",
    "    print(\":\\n\")\n",
    "    while b<a:\n",
    "        string hello\n",
    "        \"hello, \" -> hello\n",
    "        hello+\"stupyd\\n\" -> hello\n",
    "        print(hello)\n",
    "        \n",
    "        b+1 -> b\n",
    "    a+1 -> a\n",
    "print(\"\\nEND\\n\")"
   ]
  },
  {
   "cell_type": "code",
   "execution_count": null,
   "metadata": {},
   "outputs": [],
   "source": []
  }
 ],
 "metadata": {
  "kernelspec": {
   "display_name": "Demo",
   "language": "",
   "name": "demo"
  },
  "language_info": {
   "file_extension": ".py",
   "mimetype": "text/python",
   "name": "python"
  }
 },
 "nbformat": 4,
 "nbformat_minor": 2
}
